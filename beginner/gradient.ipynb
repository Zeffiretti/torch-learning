{
 "cells": [
  {
   "cell_type": "markdown",
   "source": [
    "# Gradient\n",
    "\n",
    "## what is gradient\n",
    "\n",
    "### clarification\n",
    "\n",
    "- derivative\n",
    "- partial derivative\n",
    "- gradient <br>\n",
    "$\\nabla f=\\displaystyle\\left(\\frac{\\partial f}{\\partial x_{1}};\\frac{\\partial f}{\\partial x_{2}};\\dots\\frac{\\partial f}{\\partial x_{n}}\\right)$\n",
    "\n",
    "**note:** gradient of a funciton is a vector, with its direction resembling the increasing direction of the function and its norm the velocity.\n"
   ],
   "metadata": {
    "collapsed": true,
    "pycharm": {
     "name": "#%% md\n"
    }
   }
  },
  {
   "cell_type": "markdown",
   "source": [
    "\n",
    "### How to search for minima?\n",
    "\n",
    "$θ_{t+1}=θ_{t}-α_{t}∇f(θ_{t})$\n",
    "\n",
    "- example:\n",
    "\n",
    "    - function: $J(θ_{1},θ_{2})=θ_{1}^{2}+θ_{2}^{2}$\n",
    "    - objective: $\\displaystyle\\min_{θ_{1},θ_{2}}J(θ_{1},θ_{2})$\n",
    "    - update rules: $\\displaystyleθ_{1}:=θ_{1}-α\\frac{d}{dθ_{1}}J(θ_{1},θ_{2})$,$\\displaystyleθ_{2}:=θ_{2}-α\\frac{d}{dθ_{2}}J(θ_{1},θ_{2})$\n",
    "    - derivatives: $\\displaystyle\\frac{d}{dθ_{1}}J(θ_{1},θ_{2})=\\frac{d}{dθ_{1}}θ_{1}^{2}+\\frac{d}{dθ_{1}}θ_{2}^{2}=2θ_{1}$,$\\displaystyle\\frac{d}{dθ_{2}}J(θ_{1},θ_{2})=\\frac{d}{dθ_{2}}θ_{1}^{2}+\\frac{d}{dθ_{2}}θ_{2}^{2}=2θ_{2}$\n"
   ],
   "metadata": {}
  },
  {
   "cell_type": "markdown",
   "source": [
    "\n",
    "two key problem:\n",
    "\n",
    "1. local minima\n",
    "2. saddle point\n",
    "\n",
    "## optimizer performace\n",
    "\n",
    "- initialization status\n",
    "- learning rate\n",
    "- momentum\n",
    "- etc.\n"
   ],
   "metadata": {}
  },
  {
   "cell_type": "markdown",
   "source": [
    "## activation function\n",
    "\n",
    "### step function\n",
    "\n",
    "$\\begin{equation*}\n",
    "o=\\begin{cases}\n",
    "        1,&if∑_{i=0}^{n}ω_{i}x_{i}>0 \\\\\n",
    "        0,&otherwise\n",
    "    \\end{cases}\n",
    "\\end{equation*}$\n",
    "\n",
    "### sigmoid/logistic\n",
    "\n",
    "$\\begin{equation*}\n",
    "f(x)=σ(x)=\\frac{1}{1+e^{-x}}\n",
    "\\end{equation*}$\n",
    "\n",
    "#### derivative of sigmoid\n",
    "\n",
    "$\\begin{equation*}\\begin{array}{rcl}\\displaystyle\n",
    "\\frac{d}{dx}σ(x)&=&\\frac{d}{dx}(\\frac{1}{1+e^{-x}}) \\\\\n",
    "&=&\\frac{e^{-x}}{(1+e^{-x})^{2}} \\\\\n",
    "&=&\\frac{(1+e^{-x})-1}{(1+e^{-x})^{2}} \\\\\n",
    "&=&\\frac{(1+e^{-x})}{(1+e^{-x})^{2}} -(\\frac{1}{1+e^{-x}})^{2} \\\\\n",
    "&=&σ(x)-σ(x)^{2}  \\\\\n",
    "σ'&=&σ(1-σ)\n",
    "\\end{array}\\end{equation*}$\n"
   ],
   "metadata": {}
  },
  {
   "cell_type": "code",
   "execution_count": 1,
   "source": [
    "import torch \n",
    "\n",
    "a = torch.linspace(-100, 100, 10)\n",
    "print(torch.sigmoid(a))"
   ],
   "outputs": [
    {
     "output_type": "stream",
     "name": "stdout",
     "text": [
      "tensor([0.0000e+00, 1.6655e-34, 7.4564e-25, 3.3382e-15, 1.4945e-05, 9.9999e-01,\n",
      "        1.0000e+00, 1.0000e+00, 1.0000e+00, 1.0000e+00])\n"
     ]
    }
   ],
   "metadata": {}
  },
  {
   "cell_type": "markdown",
   "source": [
    "### tanh\n",
    "\n",
    "$\\begin{equation*}\\begin{array}{rcl}\n",
    "f(x)=tanh(x)&=&\\displaystyle\\frac{e^{x}-e^{-x}}{e^{x}+e^{-x}} \\\\\n",
    "&=&2sigmoid(2x)-1\n",
    "\\end{array}\\end{equation*}$\n",
    "\n",
    "#### derivative of tanh\n",
    "$\\begin{equation*}\\displaystyle\n",
    "\\frac{d}{dx}tanh(x)=1-tanh^{2}(x)\n",
    "\\end{equation*}$\n"
   ],
   "metadata": {}
  },
  {
   "cell_type": "code",
   "execution_count": 2,
   "source": [
    "import torch\n",
    "\n",
    "a = torch.linspace(-1, 1, 10)\n",
    "print(torch.tanh(a))"
   ],
   "outputs": [
    {
     "output_type": "stream",
     "name": "stdout",
     "text": [
      "tensor([-0.7616, -0.6514, -0.5047, -0.3215, -0.1107,  0.1107,  0.3215,  0.5047,\n",
      "         0.6514,  0.7616])\n"
     ]
    }
   ],
   "metadata": {}
  },
  {
   "cell_type": "markdown",
   "source": [
    "### ReLU\n",
    "\n",
    "$\\begin{equation*}\n",
    "f(x)=\\begin{cases}\n",
    "    0, & if~x<0 \\\\\n",
    "    x, & if~x\\ge0\n",
    "\\end{cases}\n",
    "\\end{equation*}$\n"
   ],
   "metadata": {}
  },
  {
   "cell_type": "code",
   "execution_count": 3,
   "source": [
    "import torch\n",
    "from torch.nn import functional as F\n",
    "\n",
    "a = torch.linspace(-1, 1, 10)\n",
    "print(torch.relu(a))\n",
    "print(F.relu(a))"
   ],
   "outputs": [
    {
     "output_type": "stream",
     "name": "stdout",
     "text": [
      "tensor([0.0000, 0.0000, 0.0000, 0.0000, 0.0000, 0.1111, 0.3333, 0.5556, 0.7778,\n",
      "        1.0000])\n",
      "tensor([0.0000, 0.0000, 0.0000, 0.0000, 0.0000, 0.1111, 0.3333, 0.5556, 0.7778,\n",
      "        1.0000])\n"
     ]
    }
   ],
   "metadata": {}
  },
  {
   "cell_type": "markdown",
   "source": [
    "## typical loss\n",
    "\n",
    "- Mean Square Error, mse\n",
    "- Cross Entropy Loss\n",
    "\n",
    "    - binary\n",
    "    - multi-class\n",
    "    - +softmax\n",
    "\n",
    "### mse\n",
    "\n",
    "- loss = $\\sum[y-(xw+b)]^2$\n",
    "- $L2-norm=||y-(xw+b)||_{2}$\n",
    "- *loss=norm$(y-(xw+b))^2$*\n",
    "```python\n",
    "import torch\n",
    "y=torch.rand(4)\n",
    "pred=torch.rand(4)\n",
    "loss=torch.norm(y-pred,2).pow(2)\n",
    "```"
   ],
   "metadata": {
    "collapsed": false,
    "pycharm": {
     "name": "#%% md\n"
    }
   }
  },
  {
   "cell_type": "code",
   "execution_count": 4,
   "source": [
    "# demo\n",
    "import torch\n",
    "from torch.nn import functional as F\n",
    "\n",
    "x = torch.ones(1)\n",
    "w = torch.full([1], 2.)\n",
    "# mse = F.mse_loss(torch.ones(1), x * w)\n",
    "# torch.autograd.grad(mse, [w])\n",
    "# RuntimeError: element 0 of tensors does not require grad and does not have a grad_fn\n",
    "w.requires_grad_()\n",
    "# torch.autograd.grad(mse, [w])\n",
    "# RuntimeError: element 0 of tensors does not require grad and does not have a grad_fn\n",
    "mse = F.mse_loss(torch.ones(1), x * w)\n",
    "torch.autograd.grad(mse, [w])\n",
    "\n"
   ],
   "outputs": [
    {
     "output_type": "execute_result",
     "data": {
      "text/plain": [
       "(tensor([2.]),)"
      ]
     },
     "metadata": {},
     "execution_count": 4
    }
   ],
   "metadata": {
    "collapsed": false,
    "pycharm": {
     "name": "#%%\n"
    }
   }
  }
 ],
 "metadata": {
  "kernelspec": {
   "name": "python3",
   "display_name": "Python 3.8.11 64-bit ('pytorch': conda)"
  },
  "language_info": {
   "name": "python",
   "version": "3.8.11",
   "mimetype": "text/x-python",
   "codemirror_mode": {
    "name": "ipython",
    "version": 3
   },
   "pygments_lexer": "ipython3",
   "nbconvert_exporter": "python",
   "file_extension": ".py"
  },
  "interpreter": {
   "hash": "a8f600b2f06634c75376a3539a1f60621875efab213eb41935f5c979bfebb892"
  }
 },
 "nbformat": 4,
 "nbformat_minor": 2
}