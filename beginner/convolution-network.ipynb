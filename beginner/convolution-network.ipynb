{
 "cells": [
  {
   "cell_type": "markdown",
   "source": [
    "# convolution network\r\n",
    "\r\n",
    "## description in textbook\r\n",
    "\r\n",
    "- continous form\r\n",
    "  \r\n",
    "$\\begin{equation*}\r\n",
    "(f*g)(n)=∫_{-∞}^{∞}f{τ}g(n-τ)dτ\r\n",
    "\\end{equation*}$\r\n",
    "\r\n",
    "- discrete from\r\n",
    "\r\n",
    "$\\begin{equation*}\r\n",
    "(f*g)(n)=∑_{τ=-∞}^{∞}f{τ}g(n-τ)\r\n",
    "\\end{equation*}$\r\n"
   ],
   "metadata": {}
  },
  {
   "cell_type": "markdown",
   "source": [
    "对卷积这个名词的理解：**所谓两个函数的卷积，本质上就是先将一个函数翻转，然后进行滑动叠加。**\r\n",
    "\r\n",
    "参考[知乎](https://www.zhihu.com/question/22298352)回答。\r\n",
    "\r\n",
    "**瞬时行为的持续性后果**\r\n"
   ],
   "metadata": {}
  },
  {
   "cell_type": "code",
   "execution_count": 10,
   "source": [
    "# 2d convolution\r\n",
    "import torch\r\n",
    "from torch import nn\r\n",
    "\r\n",
    "x = torch.rand(1, 3, 28, 28)\r\n",
    "\r\n",
    "# parameters 1st: 3, input has 3 channels\r\n",
    "# parameters 2nd: 3, output has 3 channels\r\n",
    "layer = nn.Conv2d(3, 3, kernel_size=3, stride=1, padding=1)\r\n",
    "out = layer.forward(x)\r\n",
    "print(\"padding=0\", out.size())\r\n",
    "\r\n",
    "# [b,1,28,28] == kernel[3,1,3,3] ==> [1,2,28,28]\r\n",
    "out = layer.forward(x)\r\n",
    "print(\"padding=1\", out.size())\r\n",
    "\r\n",
    "# convenient way\r\n",
    "out = layer(x)  #.__call__\r\n",
    "print(\"convenient\", out.size())\r\n",
    "\r\n",
    "# some information\r\n",
    "print(\"layer.weight\", layer.weight)\r\n",
    "print(\"layer.bias\", layer.bias)\r\n"
   ],
   "outputs": [
    {
     "output_type": "stream",
     "name": "stdout",
     "text": [
      "padding=0 torch.Size([1, 3, 28, 28])\n",
      "padding=1 torch.Size([1, 3, 28, 28])\n",
      "convenient torch.Size([1, 3, 28, 28])\n",
      "layer.weight Parameter containing:\n",
      "tensor([[[[ 0.0770, -0.0080, -0.0393],\n",
      "          [-0.0710,  0.0320, -0.0433],\n",
      "          [-0.0118, -0.1388, -0.1794]],\n",
      "\n",
      "         [[ 0.0179,  0.0982, -0.0317],\n",
      "          [-0.0804,  0.1416,  0.1161],\n",
      "          [-0.0675, -0.1524,  0.1187]],\n",
      "\n",
      "         [[-0.1841,  0.1861, -0.1182],\n",
      "          [ 0.1505,  0.0851,  0.1360],\n",
      "          [ 0.1868, -0.0004,  0.1868]]],\n",
      "\n",
      "\n",
      "        [[[-0.0431,  0.1407, -0.0703],\n",
      "          [ 0.1365,  0.1240,  0.0756],\n",
      "          [-0.0591, -0.0225,  0.0941]],\n",
      "\n",
      "         [[-0.1273,  0.0503,  0.1521],\n",
      "          [-0.0777, -0.0614, -0.1099],\n",
      "          [-0.1915, -0.0051,  0.1057]],\n",
      "\n",
      "         [[-0.0923, -0.1006, -0.0160],\n",
      "          [ 0.0949, -0.0563, -0.1850],\n",
      "          [ 0.0275,  0.1362, -0.0971]]],\n",
      "\n",
      "\n",
      "        [[[ 0.1660, -0.0190, -0.1545],\n",
      "          [-0.1423,  0.1895,  0.1129],\n",
      "          [ 0.0805, -0.1409,  0.1588]],\n",
      "\n",
      "         [[-0.0342,  0.1332, -0.0495],\n",
      "          [ 0.0792, -0.0570,  0.1037],\n",
      "          [-0.1814, -0.0987, -0.0399]],\n",
      "\n",
      "         [[ 0.1059,  0.0618,  0.1236],\n",
      "          [-0.1234,  0.1852, -0.0523],\n",
      "          [-0.0377, -0.1466, -0.1610]]]], requires_grad=True)\n",
      "layer.bias Parameter containing:\n",
      "tensor([0.0333, 0.0956, 0.0001], requires_grad=True)\n"
     ]
    }
   ],
   "metadata": {}
  },
  {
   "cell_type": "code",
   "execution_count": 7,
   "source": [
    "# low-level usage\r\n",
    "from torch.nn import functional as F\r\n",
    "import torch\r\n",
    "\r\n",
    "x = torch.rand(1, 3, 28, 28)\r\n",
    "w = torch.rand(16, 3, 5, 5)\r\n",
    "b = torch.rand(16)\r\n",
    "out = F.conv2d(x, w, b, stride=1, padding=1)\r\n",
    "print(\"out\", out.shape)\r\n"
   ],
   "outputs": [
    {
     "output_type": "stream",
     "name": "stdout",
     "text": [
      "out torch.Size([1, 16, 26, 26])\n"
     ]
    }
   ],
   "metadata": {}
  },
  {
   "cell_type": "markdown",
   "source": [
    "### Max pooling & Subsampling\r\n",
    "\r\n",
    "## Batch Normalization\r\n"
   ],
   "metadata": {}
  }
 ],
 "metadata": {
  "orig_nbformat": 4,
  "language_info": {
   "name": "python",
   "version": "3.8.11",
   "mimetype": "text/x-python",
   "codemirror_mode": {
    "name": "ipython",
    "version": 3
   },
   "pygments_lexer": "ipython3",
   "nbconvert_exporter": "python",
   "file_extension": ".py"
  },
  "kernelspec": {
   "name": "python3",
   "display_name": "Python 3.8.11 64-bit ('pytorch': conda)"
  },
  "interpreter": {
   "hash": "f66bf51fd447f76575480c1dc7315469d276039bb74f2fe747b2cf835f229b51"
  }
 },
 "nbformat": 4,
 "nbformat_minor": 2
}