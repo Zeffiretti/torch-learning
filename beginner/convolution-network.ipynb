{
 "cells": [
  {
   "cell_type": "markdown",
   "source": [
    "# convolution network\n",
    "\n",
    "## description in textbook\n",
    "\n",
    "- continous form\n",
    "  \n",
    "$\\begin{equation*}\n",
    "(f*g)(n)=∫_{-∞}^{∞}f{τ}g(n-τ)dτ\n",
    "\\end{equation*}$\n",
    "\n",
    "- discrete from\n",
    "\n",
    "$\\begin{equation*}\n",
    "(f*g)(n)=∑_{τ=-∞}^{∞}f{τ}g(n-τ)\n",
    "\\end{equation*}$\n"
   ],
   "metadata": {}
  },
  {
   "cell_type": "markdown",
   "source": [
    "对卷积这个名词的理解：**所谓两个函数的卷积，本质上就是先将一个函数翻转，然后进行滑动叠加。**\r\n",
    "\r\n",
    "参考[知乎](https://www.zhihu.com/question/22298352)回答。\r\n",
    "\r\n",
    "**瞬时行为的持续性后果**\r\n"
   ],
   "metadata": {}
  }
 ],
 "metadata": {
  "orig_nbformat": 4,
  "language_info": {
   "name": "python",
   "version": "3.8.11"
  },
  "kernelspec": {
   "name": "python3",
   "display_name": "Python 3.8.11 64-bit ('pytorch': conda)"
  },
  "interpreter": {
   "hash": "f66bf51fd447f76575480c1dc7315469d276039bb74f2fe747b2cf835f229b51"
  }
 },
 "nbformat": 4,
 "nbformat_minor": 2
}