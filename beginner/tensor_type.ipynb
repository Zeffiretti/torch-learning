{
 "cells": [
  {
   "cell_type": "markdown",
   "metadata": {
    "collapsed": true,
    "pycharm": {
     "name": "#%% md\n"
    }
   },
   "source": [
    "## Basic data type\n",
    "**All is about Tensor**\n",
    "\n",
    "|python|PyTorch|\n",
    "|---|---|\n",
    "|Int|IntTensor of size()|\n",
    "|float|FloatTensor of size()|\n",
    "|Int array|IntTensor of size [d1,d2,...]|\n",
    "|Float array|FloatTensor of size [d1,d2,...]|\n",
    "|string|--|\n",
    "\n",
    "#### How to denote string\n",
    "- One-hot\n",
    "- Embedding\n",
    "\n",
    "### Data type\n",
    "|Data type|dtype|CPU tensor|GPU tensor|\n",
    "|---|---|---|---|\n",
    "|32-bit floating point|`torch.float32`or`torch.float`|`torch.FloatTensor`|`torch.cuda.FloatTensor`|\n",
    "|64-bit floating point|`torch.float64`or`torch.double`|`torch.DoubleTensor`|`torch.cuda.DoubleTensor`|\n",
    "|16-bit floating point|`torch.float16`or`torch.half`|`torch.HalfTensor`|`torch.cuda.HalfTensor`|\n",
    "|8-bit integer point (unsigned)|`torch.uint8`|`torch.ByteTensor`|`torch.cuda.ByteTensor`|\n",
    "|8-bit integer point (signed)|`torch.int8`|`torch.CharTensor`|`torch.cuda.CharTensor`|\n",
    "|16-bit integer point (signed)|`torch.int16`or`torch.short`|`torch.ShortTensor`|`torch.cuda.ShortTensor`|\n",
    "|32-bit integer point (signed)|`torch.int32`or`torch.int`|`torch.IntTensor`|`torch.cuda.IntTensor`|\n",
    "|64-bit integer point (signed)|`torch.int64`or`torch.long`|`torch.LongTensor`|`torch.cuda.LongTensor`|\n"
   ]
  }
 ],
 "metadata": {
  "kernelspec": {
   "display_name": "Python 3",
   "language": "python",
   "name": "python3"
  },
  "language_info": {
   "codemirror_mode": {
    "name": "ipython",
    "version": 2
   },
   "file_extension": ".py",
   "mimetype": "text/x-python",
   "name": "python",
   "nbconvert_exporter": "python",
   "pygments_lexer": "ipython2",
   "version": "2.7.6"
  }
 },
 "nbformat": 4,
 "nbformat_minor": 0
}