{
 "cells": [
  {
   "cell_type": "markdown",
   "metadata": {
    "collapsed": true,
    "pycharm": {
     "name": "#%% md\n"
    }
   },
   "source": [
    "## Hand_Writing number detect\n",
    "### Steps\n",
    "1. Load data\n",
    "2. Create Network\n",
    "3. Train it"
   ]
  },
  {
   "cell_type": "code",
   "execution_count": 1,
   "outputs": [],
   "source": [
    "# package import\n",
    "import torch\n",
    "from torch import nn\n",
    "from torch.nn import functional as F\n",
    "from torch import optim\n",
    "\n",
    "import torchvision\n",
    "from matplotlib import pylab as plt\n",
    "from hand_writing.utils import plot_image, plot_curve, one_hot\n",
    "\n",
    "# step 1 : load mnist data\n",
    "batch_size = 512\n",
    "train_loader = torch.utils.data.DataLoader(\n",
    "    torchvision.datasets.MNIST('mnist data', train=True, download=True,\n",
    "                               transform=torchvision.transforms.Compose([\n",
    "                                   torchvision.transforms.ToTensor(),\n",
    "                                   torchvision.transforms.Normalize(\n",
    "                                       (0.1307,), (0.3081,))  # convenient for optimize\n",
    "                               ])),\n",
    "    batch_size=batch_size, shuffle=True)\n",
    "\n",
    "test_loader = torch.utils.data.DataLoader(\n",
    "    torchvision.datasets.MNIST('mnist data', train=False, download=True,\n",
    "                               transform=torchvision.transforms.Compose([\n",
    "                                   torchvision.transforms.ToTensor(),\n",
    "                                   torchvision.transforms.Normalize(\n",
    "                                       (0.1307,), (0.3081,))\n",
    "                               ])),\n",
    "    batch_size=batch_size, shuffle=True)"
   ],
   "metadata": {
    "collapsed": false,
    "pycharm": {
     "name": "#%%\n"
    }
   }
  },
  {
   "cell_type": "code",
   "execution_count": 2,
   "outputs": [
    {
     "name": "stdout",
     "output_type": "stream",
     "text": [
      "torch.Size([512, 1, 28, 28]) torch.Size([512]) tensor(-0.4242) tensor(2.8215)\n"
     ]
    },
    {
     "data": {
      "text/plain": "<Figure size 432x288 with 6 Axes>",
      "image/png": "[encoded data removed]"
     },
     "metadata": {},
     "output_type": "display_data"
    }
   ],
   "source": [
    "# visualize the sample\n",
    "x, y = next(iter(train_loader))\n",
    "print(x.shape, y.shape, x.min(), x.max())\n",
    "plot_image(x, y, 'sample')\n"
   ],
   "metadata": {
    "collapsed": false,
    "pycharm": {
     "name": "#%%\n"
    }
   }
  },
  {
   "cell_type": "code",
   "execution_count": 4,
   "outputs": [
    {
     "name": "stdout",
     "output_type": "stream",
     "text": [
      "0 0 0.12224507331848145\n",
      "0 10 0.09907738119363785\n",
      "0 20 0.08728943765163422\n",
      "0 30 0.07888433337211609\n",
      "0 40 0.07438649237155914\n",
      "0 50 0.07088400423526764\n",
      "0 60 0.06667337566614151\n",
      "0 70 0.06374461948871613\n",
      "0 80 0.06084249168634415\n",
      "0 90 0.05814115330576897\n",
      "0 100 0.05543956905603409\n",
      "0 110 0.0521487221121788\n",
      "1 0 0.049473781138658524\n",
      "1 10 0.04904208332300186\n",
      "1 20 0.048673126846551895\n",
      "1 30 0.04563639685511589\n",
      "1 40 0.042594317346811295\n",
      "1 50 0.04529839754104614\n",
      "1 60 0.04183585196733475\n",
      "1 70 0.04289010912179947\n",
      "1 80 0.04095132648944855\n",
      "1 90 0.03949635103344917\n",
      "1 100 0.038139887154102325\n",
      "1 110 0.03899547830224037\n",
      "2 0 0.04024050384759903\n",
      "2 10 0.03853674978017807\n",
      "2 20 0.0385357141494751\n",
      "2 30 0.037324219942092896\n",
      "2 40 0.03332764282822609\n",
      "2 50 0.035443004220724106\n",
      "2 60 0.03377307578921318\n",
      "2 70 0.034374866634607315\n",
      "2 80 0.03498324006795883\n",
      "2 90 0.03344740718603134\n",
      "2 100 0.032252237200737\n",
      "2 110 0.03273244947195053\n"
     ]
    },
    {
     "data": {
      "text/plain": "<Figure size 432x288 with 1 Axes>",
      "image/png": "[encoded data removed]"
     },
     "metadata": {
      "needs_background": "light"
     },
     "output_type": "display_data"
    }
   ],
   "source": [
    "# Step 2 : create network\n",
    "class Net(nn.Module):\n",
    "    def __init__(self):\n",
    "        super(Net, self).__init__()\n",
    "\n",
    "        # xw+b\n",
    "        self.fc1 = nn.Linear(28 * 28, 256)\n",
    "        self.fc2 = nn.Linear(256, 64)\n",
    "        self.fc3 = nn.Linear(64, 10)\n",
    "\n",
    "    def forward(self, x):\n",
    "        # x : [b, 1, 28, 28]\n",
    "        # h1 = relu(xw1+b1)\n",
    "        x = F.relu(self.fc1(x))\n",
    "        # h2 = relu(hw2+b2)\n",
    "        x = F.relu(self.fc2(x))\n",
    "        # h3 = h2w3+b3\n",
    "        x = self.fc3(x)\n",
    "        return x"
   ],
   "metadata": {
    "collapsed": false,
    "pycharm": {
     "name": "#%%\n"
    }
   }
  },
  {
   "cell_type": "code",
   "execution_count": null,
   "outputs": [],
   "source": [
    "# Step 3 : train network\n",
    "\n",
    "net = Net()\n",
    "# [w1,b1,w2,b2,w3,b3]\n",
    "optimizer = optim.SGD(net.parameters(), lr=0.01, momentum=0.9)\n",
    "train_loss = []\n",
    "for epoch in range(3):\n",
    "    for batch_idx, (x, y) in enumerate(train_loader):\n",
    "        # x: [b,1,28,28], y: [b]\n",
    "        # print(x.shape,y.shape)\n",
    "        # break\n",
    "        # net input should be [b,future]\n",
    "        # [b,1,28,28] ==> [b,784]\n",
    "        x = x.view(x.size(0), 28 * 28)\n",
    "        # ==> [b,10]\n",
    "        out = net(x)\n",
    "        y_onehot = one_hot(y)\n",
    "        # loss = mse(out, y_one_hot)\n",
    "        loss = F.mse_loss(out, y_onehot)\n",
    "\n",
    "        optimizer.zero_grad()\n",
    "        loss.backward()\n",
    "        # w' = w - lr*grad\n",
    "        optimizer.step()\n",
    "        train_loss.append(loss.item())\n",
    "\n",
    "        if batch_idx % 10 == 0:\n",
    "            print(epoch, batch_idx, loss.item())\n",
    "plot_curve(train_loss)\n",
    "# we got optimal parameters"
   ],
   "metadata": {
    "collapsed": false,
    "pycharm": {
     "name": "#%%\n"
    }
   }
  },
  {
   "cell_type": "code",
   "execution_count": 7,
   "outputs": [
    {
     "name": "stdout",
     "output_type": "stream",
     "text": [
      "prediction correction accurate:  0.8809999823570251\n"
     ]
    },
    {
     "data": {
      "text/plain": "<Figure size 432x288 with 6 Axes>",
      "image/png": "[encoded data removed]"
     },
     "metadata": {},
     "output_type": "display_data"
    }
   ],
   "source": [
    "# Step 4 : test\n",
    "total_correct = 0\n",
    "for x, y in test_loader:\n",
    "    x = x.view(x.size(0), 28 * 28)\n",
    "    out = net(x)\n",
    "    # out: [b,10]\n",
    "    pred = out.argmax(dim=1)\n",
    "    correct = pred.eq(y).sum().float()\n",
    "    total_correct += correct\n",
    "total_num = len(test_loader.dataset)\n",
    "acc = total_correct / total_num\n",
    "print(\"prediction correction accurate: \", acc.item())\n",
    "\n",
    "# sample verify\n",
    "x, y = next(iter(test_loader))\n",
    "out = net(x.view(x.size(0), 28 * 28))\n",
    "pred = out.argmax(dim=1)\n",
    "plot_image(x, pred, 'test')"
   ],
   "metadata": {
    "collapsed": false,
    "pycharm": {
     "name": "#%%\n"
    }
   }
  },
  {
   "cell_type": "code",
   "execution_count": 3,
   "outputs": [],
   "source": [],
   "metadata": {
    "collapsed": false,
    "pycharm": {
     "name": "#%%\n"
    }
   }
  }
 ],
 "metadata": {
  "kernelspec": {
   "display_name": "Python 3",
   "language": "python",
   "name": "python3"
  },
  "language_info": {
   "codemirror_mode": {
    "name": "ipython",
    "version": 2
   },
   "file_extension": ".py",
   "mimetype": "text/x-python",
   "name": "python",
   "nbconvert_exporter": "python",
   "pygments_lexer": "ipython2",
   "version": "2.7.6"
  }
 },
 "nbformat": 4,
 "nbformat_minor": 0
}