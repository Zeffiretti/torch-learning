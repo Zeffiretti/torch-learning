{
 "cells": [
  {
   "cell_type": "markdown",
   "source": [
    "### python usage --> tensor data type\n",
    "1. how to use `transform`\n",
    "2. why `transform` is needed"
   ],
   "metadata": {
    "collapsed": false,
    "pycharm": {
     "name": "#%% md\n"
    }
   }
  },
  {
   "cell_type": "code",
   "execution_count": 5,
   "metadata": {
    "collapsed": true,
    "pycharm": {
     "name": "#%%\n"
    }
   },
   "outputs": [
    {
     "name": "stdout",
     "output_type": "stream",
     "text": [
      "img type is  <class 'PIL.JpegImagePlugin.JpegImageFile'>\n",
      "img_tensor type is  <class 'torch.Tensor'>\n"
     ]
    }
   ],
   "source": [
    "import PIL\n",
    "from torchvision import transforms\n",
    "from load_data import ants\n",
    "\n",
    "ant_data = ants.ants()\n",
    "img, label = ant_data[0]\n",
    "print(\"img type is \", type(img))\n",
    "# pay attention here\n",
    "tensor_trans = transforms.ToTensor()\n",
    "img_tensor = tensor_trans(img)\n",
    "print(\"img_tensor type is \", type(img_tensor))"
   ]
  },
  {
   "cell_type": "code",
   "execution_count": 9,
   "outputs": [],
   "source": [
    "from torch.utils.tensorboard import SummaryWriter\n",
    "\n",
    "writer = SummaryWriter(\"03/logs\")\n",
    "for i in range(len(ant_data)):\n",
    "    writer.add_image(\"ants2\", tensor_trans(ant_data[i][0]), i)\n",
    "writer.close()"
   ],
   "metadata": {
    "collapsed": false,
    "pycharm": {
     "name": "#%%\n"
    }
   }
  },
  {
   "cell_type": "code",
   "execution_count": null,
   "outputs": [],
   "source": [],
   "metadata": {
    "collapsed": false,
    "pycharm": {
     "name": "#%%\n"
    }
   }
  }
 ],
 "metadata": {
  "kernelspec": {
   "display_name": "Python 3",
   "language": "python",
   "name": "python3"
  },
  "language_info": {
   "codemirror_mode": {
    "name": "ipython",
    "version": 2
   },
   "file_extension": ".py",
   "mimetype": "text/x-python",
   "name": "python",
   "nbconvert_exporter": "python",
   "pygments_lexer": "ipython2",
   "version": "2.7.6"
  }
 },
 "nbformat": 4,
 "nbformat_minor": 0
}